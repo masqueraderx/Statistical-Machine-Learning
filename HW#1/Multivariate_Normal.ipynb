{
 "cells": [
  {
   "cell_type": "code",
   "execution_count": 6,
   "metadata": {},
   "outputs": [],
   "source": [
    "import numpy as np\n",
    "from matplotlib import pyplot as plt"
   ]
  },
  {
   "cell_type": "markdown",
   "metadata": {},
   "source": [
    "Generate Blue Data Set $~\\mathcal{N}([-1,-0.5],\\mathbf{I})$\n",
    "Generate Red Data Set $~\\mathcal{N}([1,0.5],\\mathbf{I})$"
   ]
  },
  {
   "cell_type": "code",
   "execution_count": 19,
   "metadata": {},
   "outputs": [
    {
     "data": {
      "text/plain": [
       "Text(0, 0.5, '$Y$ cordinates')"
      ]
     },
     "execution_count": 19,
     "metadata": {},
     "output_type": "execute_result"
    },
    {
     "data": {
      "image/png": "[encoded data removed]",
      "text/plain": [
       "<Figure size 432x288 with 1 Axes>"
      ]
     },
     "metadata": {
      "needs_background": "light"
     },
     "output_type": "display_data"
    }
   ],
   "source": [
    "Bluedataset=np.random.multivariate_normal([-1,-0.5],[[1,0],[0,1]],50)\n",
    "Reddataset=np.random.multivariate_normal([1,0.5],[[1,0],[0,1]],50)\n",
    "plt.plot(Bluedataset[:,0],Bluedataset[:,1],'o',color='b')\n",
    "plt.plot(Reddataset[:,0],Reddataset[:,1],'s',color='r')\n",
    "plt.grid(True,linewidth=0.5)\n",
    "plt.xlabel('$X$ cordinates')\n",
    "plt.ylabel('$Y$ cordinates')"
   ]
  },
  {
   "cell_type": "code",
   "execution_count": 10,
   "metadata": {},
   "outputs": [
    {
     "data": {
      "text/plain": [
       "array([-1.07745775, -0.72581505, -0.47063078, -1.8706062 , -0.05491402,\n",
       "       -2.66148803, -0.35645335, -0.51315161, -1.41473023, -2.21297349,\n",
       "       -0.63479064, -0.52459111,  0.9212331 , -0.93609408, -2.38751655,\n",
       "       -0.05477315, -1.83371969, -1.78844224,  0.04473677, -1.25041861,\n",
       "       -0.68375841, -0.77269398, -0.15950703, -1.18083869, -1.73235978,\n",
       "       -1.91357615, -1.03062674, -2.13504566, -2.49923089,  0.98320776,\n",
       "       -2.48877064,  0.04739822, -0.70166567, -2.10341037, -1.67371515,\n",
       "       -0.04786427,  0.2139356 , -0.78901431, -2.53616538, -3.30215411,\n",
       "        0.81436641, -1.75220798, -1.08138502, -1.38126063, -1.65223156,\n",
       "       -1.24464282, -2.2328073 , -2.00528237,  0.71424255, -0.92949727])"
      ]
     },
     "execution_count": 10,
     "metadata": {},
     "output_type": "execute_result"
    }
   ],
   "source": [
    "Bluedataset[:,0]"
   ]
  },
  {
   "cell_type": "code",
   "execution_count": null,
   "metadata": {},
   "outputs": [],
   "source": []
  }
 ],
 "metadata": {
  "kernelspec": {
   "display_name": "Python 3",
   "language": "python",
   "name": "python3"
  },
  "language_info": {
   "codemirror_mode": {
    "name": "ipython",
    "version": 3
   },
   "file_extension": ".py",
   "mimetype": "text/x-python",
   "name": "python",
   "nbconvert_exporter": "python",
   "pygments_lexer": "ipython3",
   "version": "3.7.6"
  }
 },
 "nbformat": 4,
 "nbformat_minor": 4
}
