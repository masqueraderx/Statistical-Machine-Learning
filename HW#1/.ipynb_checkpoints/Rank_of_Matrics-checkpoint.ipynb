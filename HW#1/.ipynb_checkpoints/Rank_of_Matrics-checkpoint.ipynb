{
 "cells": [
  {
   "cell_type": "code",
   "execution_count": 2,
   "metadata": {},
   "outputs": [],
   "source": [
    "import numpy as np\n",
    "from sympy import *"
   ]
  },
  {
   "cell_type": "code",
   "execution_count": 14,
   "metadata": {},
   "outputs": [
    {
     "name": "stdout",
     "output_type": "stream",
     "text": [
      "4\n",
      "[Matrix([\n",
      "[1],\n",
      "[2],\n",
      "[3],\n",
      "[4]]), Matrix([\n",
      "[311/30],\n",
      "[ 11/15],\n",
      "[-19/10],\n",
      "[-23/15]]), Matrix([\n",
      "[-2058/3419],\n",
      "[10826/3419],\n",
      "[-7846/3419],\n",
      "[  986/3419]]), Matrix([\n",
      "[  33/2242],\n",
      "[-605/2242],\n",
      "[-737/2242],\n",
      "[ 847/2242]])]\n"
     ]
    }
   ],
   "source": [
    "p1=[1,2,3,4]\n",
    "p2=[9,-2,-6,-7]\n",
    "p3=[3,4,-2,1]\n",
    "p4=[1,5,3,7]\n",
    "matrics=np.array([p1,p2,p3,p4])\n",
    "print(np.linalg.matrix_rank(matrics))#返回矩阵的秩\n",
    "L = [Matrix([1,2,3,4]), Matrix([9,-2,-6,-7]), Matrix([3,4,-2,1]),Matrix([1,5,3,7])]\n",
    "o1=GramSchmidt(L)\n",
    "print(o1)"
   ]
  },
  {
   "cell_type": "code",
   "execution_count": 16,
   "metadata": {},
   "outputs": [
    {
     "name": "stdout",
     "output_type": "stream",
     "text": [
      "3\n"
     ]
    }
   ],
   "source": [
    "p1=[1,2,3,4]\n",
    "p2=[311/30,11/15,-19/10,-23/15]\n",
    "p3=[-2058/3419,10826/3419,-7846/3419,986/3419]\n",
    "p4=[1-33/2242,5+605/2242,3+737/2242,7-847/2242]\n",
    "matrics=np.array([p1,p2,p3,p4])\n",
    "print(np.linalg.matrix_rank(matrics))#返回矩阵的秩"
   ]
  },
  {
   "cell_type": "code",
   "execution_count": 22,
   "metadata": {},
   "outputs": [
    {
     "name": "stdout",
     "output_type": "stream",
     "text": [
      "[ 1.6        -0.02105879  0.65856378]\n"
     ]
    }
   ],
   "source": [
    "a=np.array([[1,311/30,-2058/3419],[2,11/15,10826/3419],[4,-23/15,986/3419]])\n",
    "b=np.array([1-33/2242,5+605/2242,7-847/2242])\n",
    "x=np.linalg.solve(a,b)\n",
    "print(x)"
   ]
  },
  {
   "cell_type": "code",
   "execution_count": 5,
   "metadata": {},
   "outputs": [
    {
     "data": {
      "text/plain": [
       "[0.9852809991079393, 5.269848349687779, 6.62221231043711]"
      ]
     },
     "execution_count": 5,
     "metadata": {},
     "output_type": "execute_result"
    }
   ],
   "source": [
    "[2242,5+605/2242,7-847/2242]"
   ]
  },
  {
   "cell_type": "code",
   "execution_count": null,
   "metadata": {},
   "outputs": [],
   "source": []
  }
 ],
 "metadata": {
  "kernelspec": {
   "display_name": "Python 3",
   "language": "python",
   "name": "python3"
  },
  "language_info": {
   "codemirror_mode": {
    "name": "ipython",
    "version": 3
   },
   "file_extension": ".py",
   "mimetype": "text/x-python",
   "name": "python",
   "nbconvert_exporter": "python",
   "pygments_lexer": "ipython3",
   "version": "3.7.6"
  }
 },
 "nbformat": 4,
 "nbformat_minor": 4
}
