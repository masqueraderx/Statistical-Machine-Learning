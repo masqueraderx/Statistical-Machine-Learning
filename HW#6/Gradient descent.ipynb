{
 "cells": [
  {
   "cell_type": "markdown",
   "metadata": {},
   "source": [
    "# Loading modules"
   ]
  },
  {
   "cell_type": "code",
   "execution_count": 1,
   "metadata": {},
   "outputs": [],
   "source": [
    "import numpy as np\n",
    "import matplotlib.pyplot as plt\n",
    "from matplotlib.colors import ListedColormap\n",
    "from sklearn import datasets \n",
    "from math import exp\n",
    "import time\n",
    "from numpy import *\n",
    "from random import shuffle"
   ]
  },
  {
   "cell_type": "markdown",
   "metadata": {},
   "source": [
    "# Auxiliary functions"
   ]
  },
  {
   "cell_type": "code",
   "execution_count": 2,
   "metadata": {},
   "outputs": [],
   "source": [
    "# the logistic function\n",
    "def logistic_func(theta, x):\n",
    "    t = x.dot(theta)\n",
    "    g = np.zeros(t.shape)\n",
    "    # split into positive and negative to improve stability\n",
    "    g[t>=0.0] = 1.0 / (1.0 + np.exp(-t[t>=0.0])) \n",
    "    g[t<0.0] = np.exp(t[t<0.0]) / (1.0+ np.exp(t[t<0.0]))\n",
    "    return g\n",
    "\n",
    "# function to compute log-likelihood\n",
    "def neg_log_like(theta, x, y):\n",
    "    g = logistic_func(theta,x)\n",
    "#     print(g.shape)\n",
    "    return -sum(np.log(g[y>0.5])) - sum(np.log(1-g[y<0.5]))\n",
    "\n",
    "# function to compute the gradient of the negative log-likelihood\n",
    "def log_grad(theta, x, y):\n",
    "    g = logistic_func(theta,x)\n",
    "    return -x.T.dot(y-g)\n",
    "\n",
    "def log_Hessian(theta, x):\n",
    "    g = logistic_func(theta,x) #1000*1\n",
    "    n = g.shape[0]\n",
    "    return np.dot(np.dot(np.dot(x.T,np.diag(g.reshape(n))),np.diag(1-g.reshape(n))),x)"
   ]
  },
  {
   "cell_type": "markdown",
   "metadata": {},
   "source": [
    "# Gradient descent for Logistic Regression"
   ]
  },
  {
   "cell_type": "code",
   "execution_count": 3,
   "metadata": {},
   "outputs": [],
   "source": [
    "# implementation of gradient descent for logistic regression\n",
    "def grad_desc(theta, x, y, alpha, tol, maxiter):\n",
    "    nll_vec = []\n",
    "    nll_vec.append(neg_log_like(theta, x, y))\n",
    "    nll_delta = 2.0*tol\n",
    "    iter = 0\n",
    "    while (nll_delta > tol) and (iter < maxiter):\n",
    "#         print(theta)\n",
    "        theta = theta - (alpha * log_grad(theta, x, y)) \n",
    "        nll_vec.append(neg_log_like(theta, x, y))\n",
    "        nll_delta = nll_vec[-2]-nll_vec[-1]\n",
    "        iter += 1\n",
    "    return theta, np.array(nll_vec)\n",
    "\n",
    "# function to compute output of LR classifier\n",
    "def lr_predict(theta,x):\n",
    "    # form Xtilde for prediction\n",
    "    shape = x.shape\n",
    "    Xtilde = np.zeros((shape[0],shape[1]+1))\n",
    "    Xtilde[:,0] = np.ones(shape[0])\n",
    "    Xtilde[:,1:] = x\n",
    "    return logistic_func(theta,Xtilde)\n",
    "\n",
    "def Newton_method(theta, x, y, tol, maxiter):\n",
    "    nll_vec = []\n",
    "    nll_vec.append(neg_log_like(theta, x, y))\n",
    "    nll_delta = 2.0*tol\n",
    "    iter = 0\n",
    "    while (nll_delta > tol) and (iter < maxiter):\n",
    "        theta=theta-np.dot(np.linalg.inv(log_Hessian(theta,x)),log_grad(theta, x, y))#(1000,1)\n",
    "        nll_vec.append(neg_log_like(theta, x, y))\n",
    "        nll_delta = nll_vec[-2]-nll_vec[-1]\n",
    "        iter += 1\n",
    "    return theta, np.array(nll_vec)\n",
    "\n",
    "def Sto_Grad_Desc(theta, x, y, alpha, tol, maxiter):\n",
    "    nll_vec = []\n",
    "    nll_vec.append(neg_log_like(theta, x, y))\n",
    "    nll_delta = 2.0*tol\n",
    "    iter = 0\n",
    "    index_pool = list(range(x.shape[0]))\n",
    "    flunc = 3\n",
    "    while (flunc > 0) and (iter < maxiter):\n",
    "        # randomly pick a sample\n",
    "        shuffle(index_pool)\n",
    "        loss = 0\n",
    "        for index in index_pool:\n",
    "            if not iter < maxiter:\n",
    "                return theta, np.array(nll_vec)\n",
    "            x_i = x[index]\n",
    "            y_i = y[index]\n",
    "            # update theta\n",
    "            theta = theta - alpha * log_grad(theta, x_i, y_i)\n",
    "            loss += neg_log_like(theta, x_i, y_i)\n",
    "            iter += 1\n",
    "        nll_vec.append(loss)\n",
    "        nll_delta = nll_vec[-2] - nll_vec[-1]\n",
    "        # this part is used to prevent the inflence of fluncation\n",
    "        if nll_delta > tol:\n",
    "            flunc = 3\n",
    "        else:\n",
    "            flunc -= 1\n",
    "    return theta, np.array(nll_vec), iter"
   ]
  },
  {
   "cell_type": "markdown",
   "metadata": {},
   "source": [
    "# Generating dataset Sample Number 1000"
   ]
  },
  {
   "cell_type": "code",
   "execution_count": 4,
   "metadata": {},
   "outputs": [],
   "source": [
    "np.random.seed(2020) # Set random seed so results are repeatable (do not change)\n",
    "x,y = datasets.make_blobs(n_samples=1000,n_features=2,centers=2,cluster_std=6.0)\n",
    "\n",
    "## build classifier form Xtilde\n",
    "shape = x.shape\n",
    "xtilde = np.zeros((shape[0],shape[1]+1))\n",
    "xtilde[:,0] = np.ones(shape[0])\n",
    "xtilde[:,1:] = x"
   ]
  },
  {
   "cell_type": "markdown",
   "metadata": {},
   "source": [
    "# Run Gradient Descent"
   ]
  },
  {
   "cell_type": "code",
   "execution_count": 5,
   "metadata": {},
   "outputs": [
    {
     "name": "stdout",
     "output_type": "stream",
     "text": [
      "[ 1.89927372 -0.29532015 -0.36595797]\n",
      "Final GD cost: 226.365 after 1924 iterations in 0.256847 seconds\n"
     ]
    }
   ],
   "source": [
    "# Initialize theta to zero\n",
    "theta = np.zeros(shape[1]+1)\n",
    "# Run gradient descent\n",
    "#alpha = 0.0001,maxiter=10000\n",
    "alpha = 0.0001\n",
    "tol = 1e-6\n",
    "maxiter = 10000\n",
    "\n",
    "start_time = time.time()\n",
    "#using Gradient Descent\n",
    "theta_gd, cost_gd = grad_desc(theta,xtilde,y,alpha,tol,maxiter)\n",
    "print(theta_gd)\n",
    "stop_time = time.time()\n",
    "print(\"Final GD cost: %.3f after %d iterations in %f seconds\" % (cost_gd[-1],cost_gd.size,stop_time-start_time))"
   ]
  },
  {
   "cell_type": "markdown",
   "metadata": {},
   "source": [
    "# Run Newton Method"
   ]
  },
  {
   "cell_type": "code",
   "execution_count": 6,
   "metadata": {},
   "outputs": [
    {
     "name": "stdout",
     "output_type": "stream",
     "text": [
      "[ 1.90256321 -0.2956653  -0.36619489]\n",
      "Final Newton cost: 226.365 after 8 iterations in 0.027727 seconds\n"
     ]
    }
   ],
   "source": [
    "# Initialize theta to zero\n",
    "theta = np.zeros(shape[1]+1)\n",
    "# Run gradient descent\n",
    "#alpha = 0.0001,maxiter=10000\n",
    "alpha = 0.0001\n",
    "tol = 1e-6\n",
    "maxiter = 10000\n",
    "\n",
    "#using Newton's Method\n",
    "start_time = time.time()\n",
    "theta_ngd, cost_ngd = Newton_method(theta,xtilde,y,tol,maxiter)\n",
    "print(theta_ngd)\n",
    "stop_time = time.time()\n",
    "print(\"Final Newton cost: %.3f after %d iterations in %f seconds\" % (cost_ngd[-1],cost_ngd.size,stop_time-start_time))"
   ]
  },
  {
   "cell_type": "markdown",
   "metadata": {},
   "source": [
    "# Run SGD"
   ]
  },
  {
   "cell_type": "code",
   "execution_count": 7,
   "metadata": {},
   "outputs": [
    {
     "name": "stdout",
     "output_type": "stream",
     "text": [
      "[ 1.85609907 -0.28564398 -0.34971833]\n",
      "Final SGD cost: 223.393 after 100000 iterations in 4.278880 seconds\n"
     ]
    }
   ],
   "source": [
    "# Initialize theta to zero\n",
    "theta = np.zeros(shape[1]+1)\n",
    "# Run gradient descent\n",
    "#alpha = 0.0001,maxiter=10000\n",
    "alpha = 0.001\n",
    "tol = 1e-6\n",
    "maxiter = 100000\n",
    "\n",
    "start_time = time.time()\n",
    "#using SGD\n",
    "theta_sgd, cost_sgd, iter = Sto_Grad_Desc(theta,xtilde,y,alpha,tol,maxiter)\n",
    "\n",
    "print(theta_sgd)\n",
    "stop_time = time.time()\n",
    "print(\"Final SGD cost: %.3f after %d iterations in %f seconds\" % (cost_sgd[-1],iter,stop_time-start_time))"
   ]
  },
  {
   "cell_type": "markdown",
   "metadata": {},
   "source": [
    "# Generating dataset Sample Number 100,000"
   ]
  },
  {
   "cell_type": "code",
   "execution_count": 9,
   "metadata": {},
   "outputs": [],
   "source": [
    "np.random.seed(2020) # Set random seed so results are repeatable (do not change)\n",
    "x,y = datasets.make_blobs(n_samples=100000,n_features=2,centers=2,cluster_std=6.0)\n",
    "\n",
    "## build classifier form Xtilde\n",
    "shape = x.shape\n",
    "xtilde = np.zeros((shape[0],shape[1]+1))\n",
    "xtilde[:,0] = np.ones(shape[0])\n",
    "xtilde[:,1:] = x"
   ]
  },
  {
   "cell_type": "markdown",
   "metadata": {},
   "source": [
    "# Run SGD in Sample Number 100,000"
   ]
  },
  {
   "cell_type": "code",
   "execution_count": 13,
   "metadata": {},
   "outputs": [
    {
     "name": "stdout",
     "output_type": "stream",
     "text": [
      "[ 0.7247389  -0.17032292 -0.29207908]\n",
      "Final SGD cost: 28488.893 after 100000 iterations in 4.063194 seconds\n"
     ]
    }
   ],
   "source": [
    "# Initialize theta to zero\n",
    "theta = np.zeros(shape[1]+1)\n",
    "# Run gradient descent\n",
    "#alpha = 0.0001,maxiter=10000\n",
    "alpha = 0.0001\n",
    "tol = 1e-6\n",
    "maxiter = 100000\n",
    "\n",
    "start_time = time.time()\n",
    "#using SGD\n",
    "theta_sgd, cost_sgd, iter = Sto_Grad_Desc(theta,xtilde,y,alpha,tol,maxiter)\n",
    "\n",
    "print(theta_sgd)\n",
    "stop_time = time.time()\n",
    "print(\"Final SGD cost: %.3f after %d iterations in %f seconds\" % (cost_sgd[-1],iter,stop_time-start_time))"
   ]
  },
  {
   "cell_type": "markdown",
   "metadata": {},
   "source": [
    "#  Run Gradient Descent"
   ]
  },
  {
   "cell_type": "code",
   "execution_count": 23,
   "metadata": {},
   "outputs": [
    {
     "name": "stdout",
     "output_type": "stream",
     "text": [
      "[ 1.80175736 -0.26290611 -0.33760097]\n",
      "Final GD cost: 23830.493 after 2554 iterations in 30.937585 seconds\n"
     ]
    }
   ],
   "source": [
    "# Initialize theta to zero\n",
    "theta = np.zeros(shape[1]+1)\n",
    "# Run gradient descent\n",
    "#alpha = 0.0001,maxiter=10000\n",
    "alpha = 0.000001\n",
    "tol = 1e-6\n",
    "maxiter = 10000\n",
    "\n",
    "start_time = time.time()\n",
    "#using Gradient Descent\n",
    "theta_gd, cost_gd = grad_desc(theta,xtilde,y,alpha,tol,maxiter)\n",
    "print(theta_gd)\n",
    "stop_time = time.time()\n",
    "print(\"Final GD cost: %.3f after %d iterations in %f seconds\" % (cost_gd[-1],cost_gd.size,stop_time-start_time))"
   ]
  },
  {
   "cell_type": "markdown",
   "metadata": {},
   "source": [
    "# Run Newton Method"
   ]
  },
  {
   "cell_type": "code",
   "execution_count": 53,
   "metadata": {},
   "outputs": [
    {
     "name": "stdout",
     "output_type": "stream",
     "text": [
      "[ 1.80207019 -0.26293566 -0.33762014]\n",
      "Final Newton cost: 23830.493 after 8 iterations in 600.265969 seconds\n"
     ]
    }
   ],
   "source": [
    "# Initialize theta to zero\n",
    "theta = np.zeros(shape[1]+1)\n",
    "# Run gradient descent\n",
    "#alpha = 0.0001,maxiter=10000\n",
    "tol = 1e-6\n",
    "maxiter = 10000\n",
    "\n",
    "#using Newton's Method\n",
    "start_time = time.time()\n",
    "theta_ngd, cost_ngd = Newton_method(theta,xtilde,y,tol,maxiter)\n",
    "print(theta_ngd)\n",
    "stop_time = time.time()\n",
    "print(\"Final Newton cost: %.3f after %d iterations in %f seconds\" % (cost_ngd[-1],cost_ngd.size,stop_time-start_time))"
   ]
  },
  {
   "cell_type": "code",
   "execution_count": 128,
   "metadata": {},
   "outputs": [
    {
     "data": {
      "image/png": "[encoded data removed]",
      "text/plain": [
       "<Figure size 432x288 with 1 Axes>"
      ]
     },
     "metadata": {
      "needs_background": "light"
     },
     "output_type": "display_data"
    }
   ],
   "source": [
    "## Plot the decision boundary. \n",
    "# Begin by creating the mesh [x_min, x_max]x[y_min, y_max].\n",
    "h = .02  # step size in the mesh\n",
    "x_delta = (x[:, 0].max() - x[:, 0].min())*0.05 # add 5% white space to border\n",
    "y_delta = (x[:, 1].max() - x[:, 1].min())*0.05\n",
    "x_min, x_max = x[:, 0].min() - x_delta, x[:, 0].max() + x_delta\n",
    "y_min, y_max = x[:, 1].min() - y_delta, x[:, 1].max() + y_delta\n",
    "xx, yy = np.meshgrid(np.arange(x_min, x_max, h), np.arange(y_min, y_max, h))\n",
    "Z = lr_predict(theta_gd,np.c_[xx.ravel(), yy.ravel()])\n",
    "\n",
    "# Create color maps\n",
    "cmap_light = ListedColormap(['#FFAAAA', '#AAFFAA'])\n",
    "cmap_bold = ListedColormap(['#FF0000', '#00FF00'])\n",
    "\n",
    "# Put the result into a color plot\n",
    "Z = Z.reshape(xx.shape)\n",
    "plt.figure()\n",
    "plt.pcolormesh(xx, yy, Z, cmap=cmap_light)\n",
    "\n",
    "## Plot the training points\n",
    "plt.scatter(x[:, 0], x[:, 1], c=y, cmap=cmap_bold)\n",
    "\n",
    "## Show the plot\n",
    "plt.xlim(xx.min(), xx.max())\n",
    "plt.ylim(yy.min(), yy.max())\n",
    "plt.title(\"Logistic regression classifier\")\n",
    "plt.show()"
   ]
  },
  {
   "cell_type": "code",
   "execution_count": 13,
   "metadata": {},
   "outputs": [
    {
     "data": {
      "image/png": "[encoded data removed]",
      "text/plain": [
       "<Figure size 432x288 with 1 Axes>"
      ]
     },
     "metadata": {
      "needs_background": "light"
     },
     "output_type": "display_data"
    }
   ],
   "source": [
    "# plt.semilogx((cost_ngd),'rx-',label='Newton Method')\n",
    "# plt.semilogx((cost_sgd),'g*-',label='SGD')\n",
    "plt.semilogx((cost_gd),'b+-',label='Gradient descent')\n",
    "plt.grid(True)\n",
    "plt.xlabel('Number of iterations')\n",
    "plt.ylabel('Cost')\n",
    "plt.legend()\n",
    "plt.savefig('/Users/gexueren/Desktop/6254/Code/Latex/HW#6/Q1.jpg')"
   ]
  },
  {
   "cell_type": "code",
   "execution_count": 12,
   "metadata": {},
   "outputs": [
    {
     "data": {
      "image/png": "[encoded data removed]",
      "text/plain": [
       "<Figure size 432x288 with 1 Axes>"
      ]
     },
     "metadata": {
      "needs_background": "light"
     },
     "output_type": "display_data"
    }
   ],
   "source": [
    "plt.semilogx((cost_gd),'b+-',label='Gradient descent')\n",
    "plt.semilogx((cost_ngd),'rx-',label='Newton Method')\n",
    "plt.grid(True)\n",
    "plt.xlabel('Number of iterations')\n",
    "plt.ylabel('Cost')\n",
    "plt.legend()\n",
    "plt.savefig('/Users/gexueren/Desktop/6254/Code/Latex/HW#6/Q2.jpg')"
   ]
  },
  {
   "cell_type": "code",
   "execution_count": 8,
   "metadata": {},
   "outputs": [
    {
     "data": {
      "image/png": "[encoded data removed]",
      "text/plain": [
       "<Figure size 432x288 with 1 Axes>"
      ]
     },
     "metadata": {
      "needs_background": "light"
     },
     "output_type": "display_data"
    }
   ],
   "source": [
    "plt.semilogx((cost_gd),'b+-',label='Gradient descent')\n",
    "plt.semilogx((cost_sgd),'g*-',label='SGD')\n",
    "plt.grid(True)\n",
    "plt.xlabel('Number of iterations')\n",
    "plt.ylabel('Cost')\n",
    "plt.legend()\n",
    "plt.savefig('/Users/gexueren/Desktop/6254/Code/Latex/HW#6/Q4.jpg')"
   ]
  },
  {
   "cell_type": "code",
   "execution_count": null,
   "metadata": {},
   "outputs": [],
   "source": []
  }
 ],
 "metadata": {
  "kernelspec": {
   "display_name": "Python 3",
   "language": "python",
   "name": "python3"
  },
  "language_info": {
   "codemirror_mode": {
    "name": "ipython",
    "version": 3
   },
   "file_extension": ".py",
   "mimetype": "text/x-python",
   "name": "python",
   "nbconvert_exporter": "python",
   "pygments_lexer": "ipython3",
   "version": "3.7.6"
  }
 },
 "nbformat": 4,
 "nbformat_minor": 4
}
